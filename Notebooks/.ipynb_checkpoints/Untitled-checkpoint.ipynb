{
 "cells": [
  {
   "cell_type": "code",
   "execution_count": 6,
   "id": "included-character",
   "metadata": {},
   "outputs": [],
   "source": [
    "geo_dep = f\"https://raw.githubusercontent.com/gregoiredavid/france-geojson/master/departements-avec-outre-mer.geojson\""
   ]
  },
  {
   "cell_type": "code",
   "execution_count": 10,
   "id": "danish-chair",
   "metadata": {},
   "outputs": [],
   "source": [
    "import pandas as pd\n",
    "df = pd.read_json(geo_dep)"
   ]
  },
  {
   "cell_type": "code",
   "execution_count": 14,
   "id": "expanded-cornell",
   "metadata": {},
   "outputs": [
    {
     "data": {
      "text/plain": [
       "dict_keys(['type', 'geometry', 'properties'])"
      ]
     },
     "execution_count": 14,
     "metadata": {},
     "output_type": "execute_result"
    }
   ],
   "source": [
    "df.iloc[0,1].keys()"
   ]
  },
  {
   "cell_type": "code",
   "execution_count": 15,
   "id": "continuous-retail",
   "metadata": {},
   "outputs": [
    {
     "data": {
      "text/plain": [
       "{'code': '971', 'nom': 'Guadeloupe'}"
      ]
     },
     "execution_count": 15,
     "metadata": {},
     "output_type": "execute_result"
    }
   ],
   "source": [
    "df.iloc[0,1]['properties']"
   ]
  },
  {
   "cell_type": "code",
   "execution_count": 18,
   "id": "copyrighted-correlation",
   "metadata": {},
   "outputs": [
    {
     "data": {
      "text/plain": [
       "'Guadeloupe'"
      ]
     },
     "execution_count": 18,
     "metadata": {},
     "output_type": "execute_result"
    }
   ],
   "source": [
    "df.iloc[0,1]['properties']['nom']"
   ]
  },
  {
   "cell_type": "code",
   "execution_count": 2,
   "id": "advanced-musician",
   "metadata": {},
   "outputs": [
    {
     "name": "stdout",
     "output_type": "stream",
     "text": [
      "data_brut/Population2018_arr/Pop75001.csv\n",
      "data_brut/Population2018_arr/Pop75002.csv\n",
      "data_brut/Population2018_arr/Pop75003.csv\n",
      "data_brut/Population2018_arr/Pop75004.csv\n",
      "data_brut/Population2018_arr/Pop75005.csv\n",
      "data_brut/Population2018_arr/Pop75006.csv\n",
      "data_brut/Population2018_arr/Pop75007.csv\n",
      "data_brut/Population2018_arr/Pop75008.csv\n",
      "data_brut/Population2018_arr/Pop75009.csv\n",
      "data_brut/Population2018_arr/Pop75010.csv\n",
      "data_brut/Population2018_arr/Pop75011.csv\n",
      "data_brut/Population2018_arr/Pop75012.csv\n",
      "data_brut/Population2018_arr/Pop75013.csv\n",
      "data_brut/Population2018_arr/Pop75014.csv\n",
      "data_brut/Population2018_arr/Pop75015.csv\n",
      "data_brut/Population2018_arr/Pop75016.csv\n",
      "data_brut/Population2018_arr/Pop75017.csv\n",
      "data_brut/Population2018_arr/Pop75018.csv\n",
      "data_brut/Population2018_arr/Pop75019.csv\n",
      "data_brut/Population2018_arr/Pop75020.csv\n"
     ]
    }
   ],
   "source": [
    "path = 'data_brut/Population2018_arr/Pop'\n",
    "n = 1\n",
    "for i in range(75001,75021):\n",
    "    print(path+str(i)+'.csv')\n",
    "    var = 'df'+str(n)\n",
    "    n = n+1\n",
    "    globals()[var] = "
   ]
  },
  {
   "cell_type": "code",
   "execution_count": null,
   "id": "f2fd7200-b281-4e4b-a1f1-0ed7526f1ddb",
   "metadata": {},
   "outputs": [],
   "source": []
  }
 ],
 "metadata": {
  "kernelspec": {
   "display_name": "Python 3 (ipykernel)",
   "language": "python",
   "name": "python3"
  },
  "language_info": {
   "codemirror_mode": {
    "name": "ipython",
    "version": 3
   },
   "file_extension": ".py",
   "mimetype": "text/x-python",
   "name": "python",
   "nbconvert_exporter": "python",
   "pygments_lexer": "ipython3",
   "version": "3.8.11"
  }
 },
 "nbformat": 4,
 "nbformat_minor": 5
}
